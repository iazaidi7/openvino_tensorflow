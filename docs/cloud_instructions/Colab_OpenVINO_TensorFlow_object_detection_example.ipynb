{
  "nbformat": 4,
  "nbformat_minor": 0,
  "metadata": {
    "colab": {
      "name": "Colab_object_detection_instructions.ipynb",
      "provenance": [],
      "collapsed_sections": []
    },
    "kernelspec": {
      "name": "python3",
      "display_name": "Python 3"
    }
  },
  "cells": [
    {
      "cell_type": "markdown",
      "metadata": {
        "id": "m0NqXHZ9pg82"
      },
      "source": [
        "## INSTALL OpenVINO™ integration with TensorFlow\n"
      ]
    },
    {
      "cell_type": "code",
      "metadata": {
        "id": "uOk7Kisgh1Nw",
        "colab": {
          "base_uri": "https://localhost:8080/"
        },
        "outputId": "ed90eeac-bcfe-4b81-f4e8-fb4c6668aa6b"
      },
      "source": [
        "# Upload the required wheel files, models and images in a google drive folder\n",
        "# Uncomment and run the below command to copy them in your current workspace\n",
        "#!cp /content/drive/MyDrive/TF-OV/working_dir_files/* . \n",
        "\n",
        "!pip install --upgrade pip\n",
        "!pip install pillow"
      ],
      "execution_count": 2,
      "outputs": [
        {
          "output_type": "stream",
          "text": [
            "Requirement already satisfied: pip in /usr/local/lib/python3.7/dist-packages (21.1.3)\n",
            "\u001b[33mWARNING: Running pip as the 'root' user can result in broken permissions and conflicting behaviour with the system package manager. It is recommended to use a virtual environment instead: https://pip.pypa.io/warnings/venv\u001b[0m\n",
            "Requirement already satisfied: pillow in /usr/local/lib/python3.7/dist-packages (7.1.2)\n",
            "\u001b[33mWARNING: Running pip as the 'root' user can result in broken permissions and conflicting behaviour with the system package manager. It is recommended to use a virtual environment instead: https://pip.pypa.io/warnings/venv\u001b[0m\n"
          ],
          "name": "stdout"
        }
      ]
    },
    {
      "cell_type": "code",
      "metadata": {
        "id": "sgy6S1B_rW9d",
        "colab": {
          "base_uri": "https://localhost:8080/"
        },
        "outputId": "1fdc9c40-9598-474f-ea21-2536ff74d438"
      },
      "source": [
        "!ldd --version"
      ],
      "execution_count": 3,
      "outputs": [
        {
          "output_type": "stream",
          "text": [
            "ldd (Ubuntu GLIBC 2.27-3ubuntu1.2) 2.27\n",
            "Copyright (C) 2018 Free Software Foundation, Inc.\n",
            "This is free software; see the source for copying conditions.  There is NO\n",
            "warranty; not even for MERCHANTABILITY or FITNESS FOR A PARTICULAR PURPOSE.\n",
            "Written by Roland McGrath and Ulrich Drepper.\n"
          ],
          "name": "stdout"
        }
      ]
    },
    {
      "cell_type": "code",
      "metadata": {
        "colab": {
          "base_uri": "https://localhost:8080/"
        },
        "id": "5tb3KjS0IWI1",
        "outputId": "44e42978-6ae9-4d8b-c109-c9e958eea131"
      },
      "source": [
        "!git clone https://github.com/openvinotoolkit/openvino_tensorflow.git\n",
        "%cd openvino_tensorflow\n",
        "#!git checkout pre_gold_dev\n",
        "!git submodule init\n",
        "!git submodule update --recursive\n",
        "%cd .."
      ],
      "execution_count": 4,
      "outputs": [
        {
          "output_type": "stream",
          "text": [
            "Cloning into 'openvino_tensorflow'...\n",
            "remote: Enumerating objects: 14631, done.\u001b[K\n",
            "remote: Counting objects: 100% (1408/1408), done.\u001b[K\n",
            "remote: Compressing objects: 100% (736/736), done.\u001b[K\n",
            "remote: Total 14631 (delta 907), reused 1043 (delta 657), pack-reused 13223\u001b[K\n",
            "Receiving objects: 100% (14631/14631), 20.37 MiB | 28.53 MiB/s, done.\n",
            "Resolving deltas: 100% (11199/11199), done.\n",
            "/content/openvino_tensorflow\n",
            "Submodule 'ocm' (https://github.com/intel/ocm) registered for path 'ocm'\n",
            "Cloning into '/content/openvino_tensorflow/ocm'...\n",
            "Submodule path 'ocm': checked out '6d89176031e0717b9605ec6d49e3f40ff0b9488f'\n",
            "/content\n"
          ],
          "name": "stdout"
        }
      ]
    },
    {
      "cell_type": "markdown",
      "metadata": {
        "id": "kVYX3McBIafu"
      },
      "source": [
        "# Lets get the model"
      ]
    },
    {
      "cell_type": "code",
      "metadata": {
        "colab": {
          "base_uri": "https://localhost:8080/"
        },
        "id": "VjtZOTetIcxD",
        "outputId": "052373d1-62de-429b-f22d-3884edd1667a"
      },
      "source": [
        "#steps to get yolov3_darknet\n",
        "%cd openvino_tensorflow/examples\n",
        "!chmod +x convert_yolov3.sh\n",
        "!./convert_yolov3.sh"
      ],
      "execution_count": 5,
      "outputs": [
        {
          "output_type": "stream",
          "text": [
            "/content/openvino_tensorflow/examples\n",
            "Error: Command '['/content/openvino_tensorflow/examples/temp_build/env/bin/python3', '-Im', 'ensurepip', '--upgrade', '--default-pip']' returned non-zero exit status 1.\n",
            "./convert_yolov3.sh: line 16: env/bin/activate: No such file or directory\n",
            "Requirement already satisfied: pip in /usr/local/lib/python3.7/dist-packages (21.1.3)\n",
            "\u001b[33mWARNING: Running pip as the 'root' user can result in broken permissions and conflicting behaviour with the system package manager. It is recommended to use a virtual environment instead: https://pip.pypa.io/warnings/venv\u001b[0m\n",
            "Collecting tensorflow==1.15.2\n",
            "  Downloading tensorflow-1.15.2-cp37-cp37m-manylinux2010_x86_64.whl (110.5 MB)\n",
            "\u001b[K     |████████████████████████████████| 110.5 MB 31 kB/s \n",
            "\u001b[?25hRequirement already satisfied: absl-py>=0.7.0 in /usr/local/lib/python3.7/dist-packages (from tensorflow==1.15.2) (0.12.0)\n",
            "Requirement already satisfied: astor>=0.6.0 in /usr/local/lib/python3.7/dist-packages (from tensorflow==1.15.2) (0.8.1)\n",
            "Requirement already satisfied: numpy<2.0,>=1.16.0 in /usr/local/lib/python3.7/dist-packages (from tensorflow==1.15.2) (1.19.5)\n",
            "Requirement already satisfied: six>=1.10.0 in /usr/local/lib/python3.7/dist-packages (from tensorflow==1.15.2) (1.15.0)\n",
            "Collecting tensorboard<1.16.0,>=1.15.0\n",
            "  Downloading tensorboard-1.15.0-py3-none-any.whl (3.8 MB)\n",
            "\u001b[K     |████████████████████████████████| 3.8 MB 39.7 MB/s \n",
            "\u001b[?25hCollecting gast==0.2.2\n",
            "  Downloading gast-0.2.2.tar.gz (10 kB)\n",
            "Collecting keras-applications>=1.0.8\n",
            "  Downloading Keras_Applications-1.0.8-py3-none-any.whl (50 kB)\n",
            "\u001b[K     |████████████████████████████████| 50 kB 5.1 MB/s \n",
            "\u001b[?25hRequirement already satisfied: google-pasta>=0.1.6 in /usr/local/lib/python3.7/dist-packages (from tensorflow==1.15.2) (0.2.0)\n",
            "Requirement already satisfied: wrapt>=1.11.1 in /usr/local/lib/python3.7/dist-packages (from tensorflow==1.15.2) (1.12.1)\n",
            "Requirement already satisfied: wheel>=0.26 in /usr/local/lib/python3.7/dist-packages (from tensorflow==1.15.2) (0.36.2)\n",
            "Collecting tensorflow-estimator==1.15.1\n",
            "  Downloading tensorflow_estimator-1.15.1-py2.py3-none-any.whl (503 kB)\n",
            "\u001b[K     |████████████████████████████████| 503 kB 40.0 MB/s \n",
            "\u001b[?25hRequirement already satisfied: protobuf>=3.6.1 in /usr/local/lib/python3.7/dist-packages (from tensorflow==1.15.2) (3.17.3)\n",
            "Requirement already satisfied: grpcio>=1.8.6 in /usr/local/lib/python3.7/dist-packages (from tensorflow==1.15.2) (1.34.1)\n",
            "Requirement already satisfied: opt-einsum>=2.3.2 in /usr/local/lib/python3.7/dist-packages (from tensorflow==1.15.2) (3.3.0)\n",
            "Requirement already satisfied: keras-preprocessing>=1.0.5 in /usr/local/lib/python3.7/dist-packages (from tensorflow==1.15.2) (1.1.2)\n",
            "Requirement already satisfied: termcolor>=1.1.0 in /usr/local/lib/python3.7/dist-packages (from tensorflow==1.15.2) (1.1.0)\n",
            "Requirement already satisfied: h5py in /usr/local/lib/python3.7/dist-packages (from keras-applications>=1.0.8->tensorflow==1.15.2) (3.1.0)\n",
            "Requirement already satisfied: setuptools>=41.0.0 in /usr/local/lib/python3.7/dist-packages (from tensorboard<1.16.0,>=1.15.0->tensorflow==1.15.2) (57.0.0)\n",
            "Requirement already satisfied: markdown>=2.6.8 in /usr/local/lib/python3.7/dist-packages (from tensorboard<1.16.0,>=1.15.0->tensorflow==1.15.2) (3.3.4)\n",
            "Requirement already satisfied: werkzeug>=0.11.15 in /usr/local/lib/python3.7/dist-packages (from tensorboard<1.16.0,>=1.15.0->tensorflow==1.15.2) (1.0.1)\n",
            "Requirement already satisfied: importlib-metadata in /usr/local/lib/python3.7/dist-packages (from markdown>=2.6.8->tensorboard<1.16.0,>=1.15.0->tensorflow==1.15.2) (4.6.0)\n",
            "Requirement already satisfied: cached-property in /usr/local/lib/python3.7/dist-packages (from h5py->keras-applications>=1.0.8->tensorflow==1.15.2) (1.5.2)\n",
            "Requirement already satisfied: zipp>=0.5 in /usr/local/lib/python3.7/dist-packages (from importlib-metadata->markdown>=2.6.8->tensorboard<1.16.0,>=1.15.0->tensorflow==1.15.2) (3.4.1)\n",
            "Requirement already satisfied: typing-extensions>=3.6.4 in /usr/local/lib/python3.7/dist-packages (from importlib-metadata->markdown>=2.6.8->tensorboard<1.16.0,>=1.15.0->tensorflow==1.15.2) (3.7.4.3)\n",
            "Building wheels for collected packages: gast\n",
            "  Building wheel for gast (setup.py) ... \u001b[?25l\u001b[?25hdone\n",
            "  Created wheel for gast: filename=gast-0.2.2-py3-none-any.whl size=7553 sha256=ffdd56a25528d101b5a4d64e90adcc747acf34583edb1cbe6e5b54859359dec9\n",
            "  Stored in directory: /root/.cache/pip/wheels/21/7f/02/420f32a803f7d0967b48dd823da3f558c5166991bfd204eef3\n",
            "Successfully built gast\n",
            "Installing collected packages: tensorflow-estimator, tensorboard, keras-applications, gast, tensorflow\n",
            "  Attempting uninstall: tensorflow-estimator\n",
            "    Found existing installation: tensorflow-estimator 2.5.0\n",
            "    Uninstalling tensorflow-estimator-2.5.0:\n",
            "      Successfully uninstalled tensorflow-estimator-2.5.0\n",
            "  Attempting uninstall: tensorboard\n",
            "    Found existing installation: tensorboard 2.5.0\n",
            "    Uninstalling tensorboard-2.5.0:\n",
            "      Successfully uninstalled tensorboard-2.5.0\n",
            "  Attempting uninstall: gast\n",
            "    Found existing installation: gast 0.4.0\n",
            "    Uninstalling gast-0.4.0:\n",
            "      Successfully uninstalled gast-0.4.0\n",
            "  Attempting uninstall: tensorflow\n",
            "    Found existing installation: tensorflow 2.5.0\n",
            "    Uninstalling tensorflow-2.5.0:\n",
            "      Successfully uninstalled tensorflow-2.5.0\n",
            "\u001b[31mERROR: pip's dependency resolver does not currently take into account all the packages that are installed. This behaviour is the source of the following dependency conflicts.\n",
            "tensorflow-probability 0.13.0 requires gast>=0.3.2, but you have gast 0.2.2 which is incompatible.\n",
            "kapre 0.3.5 requires tensorflow>=2.0.0, but you have tensorflow 1.15.2 which is incompatible.\u001b[0m\n",
            "Successfully installed gast-0.2.2 keras-applications-1.0.8 tensorboard-1.15.0 tensorflow-1.15.2 tensorflow-estimator-1.15.1\n",
            "\u001b[33mWARNING: Running pip as the 'root' user can result in broken permissions and conflicting behaviour with the system package manager. It is recommended to use a virtual environment instead: https://pip.pypa.io/warnings/venv\u001b[0m\n",
            "Requirement already satisfied: pillow in /usr/local/lib/python3.7/dist-packages (7.1.2)\n",
            "\u001b[33mWARNING: Running pip as the 'root' user can result in broken permissions and conflicting behaviour with the system package manager. It is recommended to use a virtual environment instead: https://pip.pypa.io/warnings/venv\u001b[0m\n",
            "Cloning into 'tensorflow-yolo-v3'...\n",
            "remote: Enumerating objects: 219, done.\u001b[K\n",
            "remote: Total 219 (delta 0), reused 0 (delta 0), pack-reused 219\u001b[K\n",
            "Receiving objects: 100% (219/219), 57.63 KiB | 11.53 MiB/s, done.\n",
            "Resolving deltas: 100% (112/112), done.\n",
            "Note: checking out 'ed60b90'.\n",
            "\n",
            "You are in 'detached HEAD' state. You can look around, make experimental\n",
            "changes and commit them, and you can discard any commits you make in this\n",
            "state without impacting any branches by performing another checkout.\n",
            "\n",
            "If you want to create a new branch to retain commits you create, you may\n",
            "do so (now or later) by using -b with the checkout command again. Example:\n",
            "\n",
            "  git checkout -b <new-branch-name>\n",
            "\n",
            "HEAD is now at ed60b90 Merge pull request #53 from alexzhangxx/small_change\n",
            "--2021-07-09 09:45:16--  https://raw.githubusercontent.com/pjreddie/darknet/master/data/coco.names\n",
            "Resolving raw.githubusercontent.com (raw.githubusercontent.com)... 185.199.108.133, 185.199.109.133, 185.199.110.133, ...\n",
            "Connecting to raw.githubusercontent.com (raw.githubusercontent.com)|185.199.108.133|:443... connected.\n",
            "HTTP request sent, awaiting response... 200 OK\n",
            "Length: 625 [text/plain]\n",
            "Saving to: ‘coco.names’\n",
            "\n",
            "coco.names          100%[===================>]     625  --.-KB/s    in 0s      \n",
            "\n",
            "2021-07-09 09:45:16 (40.3 MB/s) - ‘coco.names’ saved [625/625]\n",
            "\n",
            "--2021-07-09 09:45:16--  https://pjreddie.com/media/files/yolov3.weights\n",
            "Resolving pjreddie.com (pjreddie.com)... 128.208.4.108\n",
            "Connecting to pjreddie.com (pjreddie.com)|128.208.4.108|:443... connected.\n",
            "HTTP request sent, awaiting response... 200 OK\n",
            "Length: 248007048 (237M) [application/octet-stream]\n",
            "Saving to: ‘yolov3.weights’\n",
            "\n",
            "yolov3.weights      100%[===================>] 236.52M  43.7MB/s    in 5.8s    \n",
            "\n",
            "2021-07-09 09:45:22 (40.9 MB/s) - ‘yolov3.weights’ saved [248007048/248007048]\n",
            "\n",
            "WARNING:tensorflow:\n",
            "The TensorFlow contrib module will not be included in TensorFlow 2.0.\n",
            "For more information, please see:\n",
            "  * https://github.com/tensorflow/community/blob/master/rfcs/20180907-contrib-sunset.md\n",
            "  * https://github.com/tensorflow/addons\n",
            "  * https://github.com/tensorflow/io (for I/O related ops)\n",
            "If you depend on functionality not listed there, please file an issue.\n",
            "\n",
            "WARNING:tensorflow:From convert_weights_pb.py:52: The name tf.app.run is deprecated. Please use tf.compat.v1.app.run instead.\n",
            "\n",
            "WARNING:tensorflow:From convert_weights_pb.py:38: The name tf.placeholder is deprecated. Please use tf.compat.v1.placeholder instead.\n",
            "\n",
            "W0709 09:45:26.474126 140134003591040 module_wrapper.py:139] From convert_weights_pb.py:38: The name tf.placeholder is deprecated. Please use tf.compat.v1.placeholder instead.\n",
            "\n",
            "WARNING:tensorflow:From convert_weights_pb.py:40: The name tf.variable_scope is deprecated. Please use tf.compat.v1.variable_scope instead.\n",
            "\n",
            "W0709 09:45:26.475902 140134003591040 module_wrapper.py:139] From convert_weights_pb.py:40: The name tf.variable_scope is deprecated. Please use tf.compat.v1.variable_scope instead.\n",
            "\n",
            "WARNING:tensorflow:From /usr/local/lib/python3.7/dist-packages/tensorflow_core/contrib/layers/python/layers/layers.py:1057: Layer.apply (from tensorflow.python.keras.engine.base_layer) is deprecated and will be removed in a future version.\n",
            "Instructions for updating:\n",
            "Please use `layer.__call__` method instead.\n",
            "W0709 09:45:26.478830 140134003591040 deprecation.py:323] From /usr/local/lib/python3.7/dist-packages/tensorflow_core/contrib/layers/python/layers/layers.py:1057: Layer.apply (from tensorflow.python.keras.engine.base_layer) is deprecated and will be removed in a future version.\n",
            "Instructions for updating:\n",
            "Please use `layer.__call__` method instead.\n",
            "WARNING:tensorflow:From /content/openvino_tensorflow/examples/temp_build/tensorflow-yolo-v3/yolo_v3.py:180: The name tf.image.resize_nearest_neighbor is deprecated. Please use tf.compat.v1.image.resize_nearest_neighbor instead.\n",
            "\n",
            "W0709 09:45:28.446542 140134003591040 module_wrapper.py:139] From /content/openvino_tensorflow/examples/temp_build/tensorflow-yolo-v3/yolo_v3.py:180: The name tf.image.resize_nearest_neighbor is deprecated. Please use tf.compat.v1.image.resize_nearest_neighbor instead.\n",
            "\n",
            "WARNING:tensorflow:From convert_weights_pb.py:42: The name tf.global_variables is deprecated. Please use tf.compat.v1.global_variables instead.\n",
            "\n",
            "W0709 09:45:28.936124 140134003591040 module_wrapper.py:139] From convert_weights_pb.py:42: The name tf.global_variables is deprecated. Please use tf.compat.v1.global_variables instead.\n",
            "\n",
            "WARNING:tensorflow:From /content/openvino_tensorflow/examples/temp_build/tensorflow-yolo-v3/utils.py:93: The name tf.assign is deprecated. Please use tf.compat.v1.assign instead.\n",
            "\n",
            "W0709 09:45:29.024926 140134003591040 module_wrapper.py:139] From /content/openvino_tensorflow/examples/temp_build/tensorflow-yolo-v3/utils.py:93: The name tf.assign is deprecated. Please use tf.compat.v1.assign instead.\n",
            "\n",
            "WARNING:tensorflow:From convert_weights_pb.py:47: The name tf.Session is deprecated. Please use tf.compat.v1.Session instead.\n",
            "\n",
            "W0709 09:45:30.984903 140134003591040 module_wrapper.py:139] From convert_weights_pb.py:47: The name tf.Session is deprecated. Please use tf.compat.v1.Session instead.\n",
            "\n",
            "2021-07-09 09:45:30.985415: I tensorflow/core/platform/cpu_feature_guard.cc:142] Your CPU supports instructions that this TensorFlow binary was not compiled to use: AVX2 FMA\n",
            "2021-07-09 09:45:30.989270: I tensorflow/core/platform/profile_utils/cpu_utils.cc:94] CPU Frequency: 2199995000 Hz\n",
            "2021-07-09 09:45:30.989651: I tensorflow/compiler/xla/service/service.cc:168] XLA service 0x564c615c72c0 initialized for platform Host (this does not guarantee that XLA will be used). Devices:\n",
            "2021-07-09 09:45:30.989691: I tensorflow/compiler/xla/service/service.cc:176]   StreamExecutor device (0): Host, Default Version\n",
            "WARNING:tensorflow:From /content/openvino_tensorflow/examples/temp_build/tensorflow-yolo-v3/utils.py:52: The name tf.get_default_graph is deprecated. Please use tf.compat.v1.get_default_graph instead.\n",
            "\n",
            "W0709 09:45:32.976571 140134003591040 module_wrapper.py:139] From /content/openvino_tensorflow/examples/temp_build/tensorflow-yolo-v3/utils.py:52: The name tf.get_default_graph is deprecated. Please use tf.compat.v1.get_default_graph instead.\n",
            "\n",
            "WARNING:tensorflow:From /content/openvino_tensorflow/examples/temp_build/tensorflow-yolo-v3/utils.py:53: convert_variables_to_constants (from tensorflow.python.framework.graph_util_impl) is deprecated and will be removed in a future version.\n",
            "Instructions for updating:\n",
            "Use `tf.compat.v1.graph_util.convert_variables_to_constants`\n",
            "W0709 09:45:33.537106 140134003591040 deprecation.py:323] From /content/openvino_tensorflow/examples/temp_build/tensorflow-yolo-v3/utils.py:53: convert_variables_to_constants (from tensorflow.python.framework.graph_util_impl) is deprecated and will be removed in a future version.\n",
            "Instructions for updating:\n",
            "Use `tf.compat.v1.graph_util.convert_variables_to_constants`\n",
            "WARNING:tensorflow:From /usr/local/lib/python3.7/dist-packages/tensorflow_core/python/framework/graph_util_impl.py:277: extract_sub_graph (from tensorflow.python.framework.graph_util_impl) is deprecated and will be removed in a future version.\n",
            "Instructions for updating:\n",
            "Use `tf.compat.v1.graph_util.extract_sub_graph`\n",
            "W0709 09:45:33.537610 140134003591040 deprecation.py:323] From /usr/local/lib/python3.7/dist-packages/tensorflow_core/python/framework/graph_util_impl.py:277: extract_sub_graph (from tensorflow.python.framework.graph_util_impl) is deprecated and will be removed in a future version.\n",
            "Instructions for updating:\n",
            "Use `tf.compat.v1.graph_util.extract_sub_graph`\n",
            "INFO:tensorflow:Froze 366 variables.\n",
            "I0709 09:45:33.841423 140134003591040 graph_util_impl.py:334] Froze 366 variables.\n",
            "INFO:tensorflow:Converted 366 variables to const ops.\n",
            "I0709 09:45:34.149725 140134003591040 graph_util_impl.py:394] Converted 366 variables to const ops.\n",
            "WARNING:tensorflow:From /content/openvino_tensorflow/examples/temp_build/tensorflow-yolo-v3/utils.py:56: The name tf.gfile.GFile is deprecated. Please use tf.io.gfile.GFile instead.\n",
            "\n",
            "W0709 09:45:34.193963 140134003591040 module_wrapper.py:139] From /content/openvino_tensorflow/examples/temp_build/tensorflow-yolo-v3/utils.py:56: The name tf.gfile.GFile is deprecated. Please use tf.io.gfile.GFile instead.\n",
            "\n",
            "1186 ops written to frozen_darknet_yolov3_model.pb.\n",
            "./convert_yolov3.sh: line 31: deactivate: command not found\n"
          ],
          "name": "stdout"
        }
      ]
    },
    {
      "cell_type": "code",
      "metadata": {
        "colab": {
          "base_uri": "https://localhost:8080/"
        },
        "id": "B8JTdrlue6Yr",
        "outputId": "64c54f72-6206-4e5a-936f-1f1db8599d87"
      },
      "source": [
        "# Install stock TensorFlow\n",
        "!pip install tensorflow==2.4.1 \n",
        "\n",
        "# Install OpenVINO™ integration with TensorFlow\n",
        "!pip install openvino-tensorflow\n",
        "\n",
        "!pip install openvino_tensorflow\n",
        "#!pip install openvino_tensorflow-0.5.0-cp37-cp37m-manylinux2014_x86_64.whl"
      ],
      "execution_count": 6,
      "outputs": [
        {
          "output_type": "stream",
          "text": [
            "Collecting tensorflow==2.4.1\n",
            "  Downloading tensorflow-2.4.1-cp37-cp37m-manylinux2010_x86_64.whl (394.3 MB)\n",
            "\u001b[K     |████████████████████████████████| 394.3 MB 13 kB/s \n",
            "\u001b[?25hRequirement already satisfied: astunparse~=1.6.3 in /usr/local/lib/python3.7/dist-packages (from tensorflow==2.4.1) (1.6.3)\n",
            "Requirement already satisfied: google-pasta~=0.2 in /usr/local/lib/python3.7/dist-packages (from tensorflow==2.4.1) (0.2.0)\n",
            "Collecting tensorflow-estimator<2.5.0,>=2.4.0\n",
            "  Downloading tensorflow_estimator-2.4.0-py2.py3-none-any.whl (462 kB)\n",
            "\u001b[K     |████████████████████████████████| 462 kB 49.0 MB/s \n",
            "\u001b[?25hCollecting gast==0.3.3\n",
            "  Downloading gast-0.3.3-py2.py3-none-any.whl (9.7 kB)\n",
            "Requirement already satisfied: opt-einsum~=3.3.0 in /usr/local/lib/python3.7/dist-packages (from tensorflow==2.4.1) (3.3.0)\n",
            "Requirement already satisfied: numpy~=1.19.2 in /usr/local/lib/python3.7/dist-packages (from tensorflow==2.4.1) (1.19.5)\n",
            "Requirement already satisfied: six~=1.15.0 in /usr/local/lib/python3.7/dist-packages (from tensorflow==2.4.1) (1.15.0)\n",
            "Requirement already satisfied: wrapt~=1.12.1 in /usr/local/lib/python3.7/dist-packages (from tensorflow==2.4.1) (1.12.1)\n",
            "Requirement already satisfied: keras-preprocessing~=1.1.2 in /usr/local/lib/python3.7/dist-packages (from tensorflow==2.4.1) (1.1.2)\n",
            "Requirement already satisfied: absl-py~=0.10 in /usr/local/lib/python3.7/dist-packages (from tensorflow==2.4.1) (0.12.0)\n",
            "Requirement already satisfied: termcolor~=1.1.0 in /usr/local/lib/python3.7/dist-packages (from tensorflow==2.4.1) (1.1.0)\n",
            "Collecting tensorboard~=2.4\n",
            "  Downloading tensorboard-2.5.0-py3-none-any.whl (6.0 MB)\n",
            "\u001b[K     |████████████████████████████████| 6.0 MB 61.7 MB/s \n",
            "\u001b[?25hRequirement already satisfied: flatbuffers~=1.12.0 in /usr/local/lib/python3.7/dist-packages (from tensorflow==2.4.1) (1.12)\n",
            "Requirement already satisfied: typing-extensions~=3.7.4 in /usr/local/lib/python3.7/dist-packages (from tensorflow==2.4.1) (3.7.4.3)\n",
            "Collecting grpcio~=1.32.0\n",
            "  Downloading grpcio-1.32.0-cp37-cp37m-manylinux2014_x86_64.whl (3.8 MB)\n",
            "\u001b[K     |████████████████████████████████| 3.8 MB 62.8 MB/s \n",
            "\u001b[?25hRequirement already satisfied: protobuf>=3.9.2 in /usr/local/lib/python3.7/dist-packages (from tensorflow==2.4.1) (3.17.3)\n",
            "Requirement already satisfied: wheel~=0.35 in /usr/local/lib/python3.7/dist-packages (from tensorflow==2.4.1) (0.36.2)\n",
            "Collecting h5py~=2.10.0\n",
            "  Downloading h5py-2.10.0-cp37-cp37m-manylinux1_x86_64.whl (2.9 MB)\n",
            "\u001b[K     |████████████████████████████████| 2.9 MB 44.8 MB/s \n",
            "\u001b[?25hRequirement already satisfied: requests<3,>=2.21.0 in /usr/local/lib/python3.7/dist-packages (from tensorboard~=2.4->tensorflow==2.4.1) (2.23.0)\n",
            "Requirement already satisfied: tensorboard-plugin-wit>=1.6.0 in /usr/local/lib/python3.7/dist-packages (from tensorboard~=2.4->tensorflow==2.4.1) (1.8.0)\n",
            "Requirement already satisfied: google-auth<2,>=1.6.3 in /usr/local/lib/python3.7/dist-packages (from tensorboard~=2.4->tensorflow==2.4.1) (1.32.1)\n",
            "Requirement already satisfied: google-auth-oauthlib<0.5,>=0.4.1 in /usr/local/lib/python3.7/dist-packages (from tensorboard~=2.4->tensorflow==2.4.1) (0.4.4)\n",
            "Requirement already satisfied: setuptools>=41.0.0 in /usr/local/lib/python3.7/dist-packages (from tensorboard~=2.4->tensorflow==2.4.1) (57.0.0)\n",
            "Requirement already satisfied: werkzeug>=0.11.15 in /usr/local/lib/python3.7/dist-packages (from tensorboard~=2.4->tensorflow==2.4.1) (1.0.1)\n",
            "Requirement already satisfied: tensorboard-data-server<0.7.0,>=0.6.0 in /usr/local/lib/python3.7/dist-packages (from tensorboard~=2.4->tensorflow==2.4.1) (0.6.1)\n",
            "Requirement already satisfied: markdown>=2.6.8 in /usr/local/lib/python3.7/dist-packages (from tensorboard~=2.4->tensorflow==2.4.1) (3.3.4)\n",
            "Requirement already satisfied: cachetools<5.0,>=2.0.0 in /usr/local/lib/python3.7/dist-packages (from google-auth<2,>=1.6.3->tensorboard~=2.4->tensorflow==2.4.1) (4.2.2)\n",
            "Requirement already satisfied: rsa<5,>=3.1.4 in /usr/local/lib/python3.7/dist-packages (from google-auth<2,>=1.6.3->tensorboard~=2.4->tensorflow==2.4.1) (4.7.2)\n",
            "Requirement already satisfied: pyasn1-modules>=0.2.1 in /usr/local/lib/python3.7/dist-packages (from google-auth<2,>=1.6.3->tensorboard~=2.4->tensorflow==2.4.1) (0.2.8)\n",
            "Requirement already satisfied: requests-oauthlib>=0.7.0 in /usr/local/lib/python3.7/dist-packages (from google-auth-oauthlib<0.5,>=0.4.1->tensorboard~=2.4->tensorflow==2.4.1) (1.3.0)\n",
            "Requirement already satisfied: importlib-metadata in /usr/local/lib/python3.7/dist-packages (from markdown>=2.6.8->tensorboard~=2.4->tensorflow==2.4.1) (4.6.0)\n",
            "Requirement already satisfied: pyasn1<0.5.0,>=0.4.6 in /usr/local/lib/python3.7/dist-packages (from pyasn1-modules>=0.2.1->google-auth<2,>=1.6.3->tensorboard~=2.4->tensorflow==2.4.1) (0.4.8)\n",
            "Requirement already satisfied: chardet<4,>=3.0.2 in /usr/local/lib/python3.7/dist-packages (from requests<3,>=2.21.0->tensorboard~=2.4->tensorflow==2.4.1) (3.0.4)\n",
            "Requirement already satisfied: certifi>=2017.4.17 in /usr/local/lib/python3.7/dist-packages (from requests<3,>=2.21.0->tensorboard~=2.4->tensorflow==2.4.1) (2021.5.30)\n",
            "Requirement already satisfied: urllib3!=1.25.0,!=1.25.1,<1.26,>=1.21.1 in /usr/local/lib/python3.7/dist-packages (from requests<3,>=2.21.0->tensorboard~=2.4->tensorflow==2.4.1) (1.24.3)\n",
            "Requirement already satisfied: idna<3,>=2.5 in /usr/local/lib/python3.7/dist-packages (from requests<3,>=2.21.0->tensorboard~=2.4->tensorflow==2.4.1) (2.10)\n",
            "Requirement already satisfied: oauthlib>=3.0.0 in /usr/local/lib/python3.7/dist-packages (from requests-oauthlib>=0.7.0->google-auth-oauthlib<0.5,>=0.4.1->tensorboard~=2.4->tensorflow==2.4.1) (3.1.1)\n",
            "Requirement already satisfied: zipp>=0.5 in /usr/local/lib/python3.7/dist-packages (from importlib-metadata->markdown>=2.6.8->tensorboard~=2.4->tensorflow==2.4.1) (3.4.1)\n",
            "Installing collected packages: grpcio, tensorflow-estimator, tensorboard, h5py, gast, tensorflow\n",
            "  Attempting uninstall: grpcio\n",
            "    Found existing installation: grpcio 1.34.1\n",
            "    Uninstalling grpcio-1.34.1:\n",
            "      Successfully uninstalled grpcio-1.34.1\n",
            "  Attempting uninstall: tensorflow-estimator\n",
            "    Found existing installation: tensorflow-estimator 1.15.1\n",
            "    Uninstalling tensorflow-estimator-1.15.1:\n",
            "      Successfully uninstalled tensorflow-estimator-1.15.1\n",
            "  Attempting uninstall: tensorboard\n",
            "    Found existing installation: tensorboard 1.15.0\n",
            "    Uninstalling tensorboard-1.15.0:\n",
            "      Successfully uninstalled tensorboard-1.15.0\n",
            "  Attempting uninstall: h5py\n",
            "    Found existing installation: h5py 3.1.0\n",
            "    Uninstalling h5py-3.1.0:\n",
            "      Successfully uninstalled h5py-3.1.0\n",
            "  Attempting uninstall: gast\n",
            "    Found existing installation: gast 0.2.2\n",
            "    Uninstalling gast-0.2.2:\n",
            "      Successfully uninstalled gast-0.2.2\n",
            "  Attempting uninstall: tensorflow\n",
            "    Found existing installation: tensorflow 1.15.2\n",
            "    Uninstalling tensorflow-1.15.2:\n",
            "      Successfully uninstalled tensorflow-1.15.2\n",
            "Successfully installed gast-0.3.3 grpcio-1.32.0 h5py-2.10.0 tensorboard-2.5.0 tensorflow-2.4.1 tensorflow-estimator-2.4.0\n",
            "\u001b[33mWARNING: Running pip as the 'root' user can result in broken permissions and conflicting behaviour with the system package manager. It is recommended to use a virtual environment instead: https://pip.pypa.io/warnings/venv\u001b[0m\n",
            "Collecting openvino-tensorflow\n",
            "  Downloading openvino_tensorflow-0.5.0-cp37-cp37m-manylinux2014_x86_64.whl (25.0 MB)\n",
            "\u001b[K     |████████████████████████████████| 25.0 MB 2.8 kB/s \n",
            "\u001b[?25hInstalling collected packages: openvino-tensorflow\n",
            "Successfully installed openvino-tensorflow-0.5.0\n",
            "\u001b[33mWARNING: Running pip as the 'root' user can result in broken permissions and conflicting behaviour with the system package manager. It is recommended to use a virtual environment instead: https://pip.pypa.io/warnings/venv\u001b[0m\n",
            "Requirement already satisfied: openvino_tensorflow in /usr/local/lib/python3.7/dist-packages (0.5.0)\n",
            "\u001b[33mWARNING: Running pip as the 'root' user can result in broken permissions and conflicting behaviour with the system package manager. It is recommended to use a virtual environment instead: https://pip.pypa.io/warnings/venv\u001b[0m\n"
          ],
          "name": "stdout"
        }
      ]
    },
    {
      "cell_type": "markdown",
      "metadata": {
        "id": "tDQDLFx69izd"
      },
      "source": [
        "# Now lets infer"
      ]
    },
    {
      "cell_type": "code",
      "metadata": {
        "id": "1EImyzDiiHGW"
      },
      "source": [
        "from __future__ import absolute_import, division, print_function, unicode_literals\n",
        "from tensorflow.keras import backend as K\n",
        "from IPython.display import HTML\n",
        "\n",
        "import argparse\n",
        "import os\n",
        "import numpy as np\n",
        "import tensorflow as tf\n",
        "import openvino_tensorflow as ovtf\n",
        "import time\n",
        "from PIL import Image, ImageFont, ImageDraw\n",
        "import cv2\n",
        "import openvino_tensorflow\n"
      ],
      "execution_count": 7,
      "outputs": []
    },
    {
      "cell_type": "code",
      "metadata": {
        "id": "tzNof2kniUfj"
      },
      "source": [
        "def load_graph(model_file):\n",
        "    graph = tf.Graph()\n",
        "    graph_def = tf.compat.v1.GraphDef()\n",
        "\n",
        "    with open(model_file, \"rb\") as f:\n",
        "        graph_def.ParseFromString(f.read())\n",
        "    with graph.as_default():\n",
        "        tf.import_graph_def(graph_def)\n",
        "\n",
        "    return graph"
      ],
      "execution_count": 8,
      "outputs": []
    },
    {
      "cell_type": "code",
      "metadata": {
        "id": "OHIUZ33qBJto"
      },
      "source": [
        "def letter_box_image(image_path, input_height, input_width,\n",
        "                     fill_value) -> np.ndarray:\n",
        "    image = Image.open(image_path)\n",
        "    height_ratio = float(input_height) / image.size[1]\n",
        "    width_ratio = float(input_width) / image.size[0]\n",
        "    fit_ratio = min(width_ratio, height_ratio)\n",
        "    fit_height = int(image.size[1] * fit_ratio)\n",
        "    fit_width = int(image.size[0] * fit_ratio)\n",
        "    fit_image = np.asarray(\n",
        "        image.resize((fit_width, fit_height), resample=Image.BILINEAR))\n",
        "\n",
        "    fill_value = np.full(fit_image.shape[2], fill_value, fit_image.dtype)\n",
        "    to_return = np.tile(fill_value, (input_height, input_width, 1))\n",
        "    pad_top = int(0.5 * (input_height - fit_height))\n",
        "    pad_left = int(0.5 * (input_width - fit_width))\n",
        "    to_return[pad_top:pad_top + fit_height, pad_left:pad_left +\n",
        "              fit_width] = fit_image\n",
        "\n",
        "    return to_return, image"
      ],
      "execution_count": 9,
      "outputs": []
    },
    {
      "cell_type": "code",
      "metadata": {
        "id": "BwPfurPbFhzI"
      },
      "source": [
        "def load_coco_names(file_name):\n",
        "    names = {}\n",
        "    with open(file_name) as f:\n",
        "        for id, name in enumerate(f):\n",
        "            names[id] = name\n",
        "    return names"
      ],
      "execution_count": 10,
      "outputs": []
    },
    {
      "cell_type": "code",
      "metadata": {
        "id": "ux9nJIPYFtAS"
      },
      "source": [
        "def letter_box_pos_to_original_pos(letter_pos, current_size,\n",
        "                                   ori_image_size) -> np.ndarray:\n",
        "    letter_pos = np.asarray(letter_pos, dtype=np.float)\n",
        "    current_size = np.asarray(current_size, dtype=np.float)\n",
        "    ori_image_size = np.asarray(ori_image_size, dtype=np.float)\n",
        "    final_ratio = min(current_size[0] / ori_image_size[0],\n",
        "                      current_size[1] / ori_image_size[1])\n",
        "    pad = 0.5 * (current_size - final_ratio * ori_image_size)\n",
        "    pad = pad.astype(np.int32)\n",
        "    to_return_pos = (letter_pos - pad) / final_ratio\n",
        "    return to_return_pos"
      ],
      "execution_count": 11,
      "outputs": []
    },
    {
      "cell_type": "code",
      "metadata": {
        "id": "XNM1vS3ZGB5f"
      },
      "source": [
        "def convert_to_original_size(box, size, original_size, is_letter_box_image):\n",
        "    if is_letter_box_image:\n",
        "        box = box.reshape(2, 2)\n",
        "        box[0, :] = letter_box_pos_to_original_pos(box[0, :], size,\n",
        "                                                   original_size)\n",
        "        box[1, :] = letter_box_pos_to_original_pos(box[1, :], size,\n",
        "                                                   original_size)\n",
        "    else:\n",
        "        ratio = original_size / size\n",
        "        box = box.reshape(2, 2) * ratio\n",
        "    return list(box.reshape(-1))"
      ],
      "execution_count": 12,
      "outputs": []
    },
    {
      "cell_type": "code",
      "metadata": {
        "id": "JVu59xWpGD7A"
      },
      "source": [
        "def draw_boxes(boxes, img, cls_names, detection_size, is_letter_box_image):\n",
        "    draw = ImageDraw.Draw(img)\n",
        "    for cls, bboxs in boxes.items():\n",
        "        color = (256, 256, 256)\n",
        "        for box, score in bboxs:\n",
        "            box = convert_to_original_size(box, np.array(detection_size),\n",
        "                                           np.array(img.size),\n",
        "                                           is_letter_box_image)\n",
        "            draw.rectangle(box, outline=color)\n",
        "            draw.text(\n",
        "                box[:2],\n",
        "                '{} {:.2f}%'.format(cls_names[cls], score * 100),\n",
        "                fill=color)"
      ],
      "execution_count": 13,
      "outputs": []
    },
    {
      "cell_type": "code",
      "metadata": {
        "id": "510Ce4AYGNPP"
      },
      "source": [
        "def iou(box1, box2):\n",
        "    b1_x0, b1_y0, b1_x1, b1_y1 = box1\n",
        "    b2_x0, b2_y0, b2_x1, b2_y1 = box2\n",
        "\n",
        "    int_x0 = max(b1_x0, b2_x0)\n",
        "    int_y0 = max(b1_y0, b2_y0)\n",
        "    int_x1 = min(b1_x1, b2_x1)\n",
        "    int_y1 = min(b1_y1, b2_y1)\n",
        "\n",
        "    int_area = (int_x1 - int_x0) * (int_y1 - int_y0)\n",
        "\n",
        "    b1_area = (b1_x1 - b1_x0) * (b1_y1 - b1_y0)\n",
        "    b2_area = (b2_x1 - b2_x0) * (b2_y1 - b2_y0)\n",
        "\n",
        "    iou = int_area / (b1_area + b2_area - int_area + 1e-05)\n",
        "\n",
        "    return iou"
      ],
      "execution_count": 14,
      "outputs": []
    },
    {
      "cell_type": "code",
      "metadata": {
        "id": "sVZ6iZdiGVfM"
      },
      "source": [
        "def non_max_suppression(predictions_with_boxes,\n",
        "                        confidence_threshold,\n",
        "                        iou_threshold=0.4):\n",
        "    conf_mask = np.expand_dims(\n",
        "        (predictions_with_boxes[:, :, 4] > confidence_threshold), -1)\n",
        "    predictions = predictions_with_boxes * conf_mask\n",
        "\n",
        "    result = {}\n",
        "    for i, image_pred in enumerate(predictions):\n",
        "        shape = image_pred.shape\n",
        "        non_zero_idxs = np.nonzero(image_pred)\n",
        "        image_pred = image_pred[non_zero_idxs]\n",
        "        image_pred = image_pred.reshape(-1, shape[-1])\n",
        "\n",
        "        bbox_attrs = image_pred[:, :5]\n",
        "        classes = image_pred[:, 5:]\n",
        "        classes = np.argmax(classes, axis=-1)\n",
        "\n",
        "        unique_classes = list(set(classes.reshape(-1)))\n",
        "\n",
        "        for cls in unique_classes:\n",
        "            cls_mask = classes == cls\n",
        "            cls_boxes = bbox_attrs[np.nonzero(cls_mask)]\n",
        "            cls_boxes = cls_boxes[cls_boxes[:, -1].argsort()[::-1]]\n",
        "            cls_scores = cls_boxes[:, -1]\n",
        "            cls_boxes = cls_boxes[:, :-1]\n",
        "\n",
        "            while len(cls_boxes) > 0:\n",
        "                box = cls_boxes[0]\n",
        "                score = cls_scores[0]\n",
        "                if not cls in result:\n",
        "                    result[cls] = []\n",
        "                result[cls].append((box, score))\n",
        "                cls_boxes = cls_boxes[1:]\n",
        "                # iou threshold check for overlapping boxes\n",
        "                ious = np.array([iou(box, x) for x in cls_boxes])\n",
        "                iou_mask = ious < iou_threshold\n",
        "                cls_boxes = cls_boxes[np.nonzero(iou_mask)]\n",
        "                cls_scores = cls_scores[np.nonzero(iou_mask)]\n",
        "    return result"
      ],
      "execution_count": 15,
      "outputs": []
    },
    {
      "cell_type": "code",
      "metadata": {
        "id": "byhRm6n6ki8Q"
      },
      "source": [
        "def infer_openvino_tensorflow(model_file, input_layer, output_layer, image_file , input_height, input_width, input_mean, input_std, label_file):\n",
        "    print(\"CREATE MODEL - BEGIN\")\n",
        "\n",
        "    # Load graph and process input image\n",
        "    graph = load_graph(model_file)\n",
        "    print(\"CREATE MODEL - END\")\n",
        "\n",
        "    img_resized, img = letter_box_image(image_file, input_height, input_width,\n",
        "                                       128)\n",
        "    img_resized = img_resized.astype(np.float32)\n",
        "    if label_file:\n",
        "        classes = load_coco_names(label_file)\n",
        "    input_name = \"import/\" + input_layer\n",
        "    output_name = \"import/\" + output_layer\n",
        "    input_operation = graph.get_operation_by_name(input_name)\n",
        "    output_operation = graph.get_operation_by_name(output_name)\n",
        "\n",
        "    # update config params for openvino tensorflow addon\n",
        "    config = tf.compat.v1.ConfigProto()\n",
        "    config_ngraph_enabled = ovtf.update_config(config)\n",
        "\n",
        "    print(\"PREDICTION - BEGIN\")\n",
        "    \n",
        "    with tf.compat.v1.Session(\n",
        "            graph=graph, config=config_ngraph_enabled) as sess:\n",
        "        # Warmup\n",
        "        detected_boxes = sess.run(output_operation.outputs[0],\n",
        "                                  {input_operation.outputs[0]: [img_resized]})\n",
        "        # Run\n",
        "        import time\n",
        "        start = time.time()\n",
        "        detected_boxes = sess.run(output_operation.outputs[0],\n",
        "                                  {input_operation.outputs[0]: [img_resized]})\n",
        "        elapsed = time.time() - start\n",
        "        print('Inference time in ms: %f' % (elapsed * 1000))\n",
        "    print(\"PREDICTION - END\")  \n",
        "       \n",
        "    # apply non max suppresion, draw boxes and save updated image\n",
        "    filtered_boxes = non_max_suppression(detected_boxes, conf_threshold,\n",
        "                                        iou_threshold)\n",
        "    draw_boxes(filtered_boxes, img, classes, (input_width, input_height), True)\n",
        "    if output_dir:\n",
        "        img.save(os.path.join(output_dir, \"detections.jpg\"))\n",
        "    else:\n",
        "        img.save(\"detections.jpg\")    "
      ],
      "execution_count": 16,
      "outputs": []
    },
    {
      "cell_type": "code",
      "metadata": {
        "colab": {
          "base_uri": "https://localhost:8080/"
        },
        "id": "6wyXyuylGlRP",
        "outputId": "018a5380-e768-46ef-fc78-761658308430"
      },
      "source": [
        "   %cd openvino_tensorflow/examples\n",
        "   image_file = \"data/grace_hopper.jpg\"\n",
        "   model_file = \"data/yolo_v3_darknet.pb\"\n",
        "   label_file = \"data/coco.names\"\n",
        "   input_height = 416\n",
        "   input_width = 416\n",
        "   input_mean = 0\n",
        "   input_std = 255\n",
        "   input_layer = \"inputs\"\n",
        "   output_layer = \"output_boxes\"\n",
        "   backend_name = \"CPU\"\n",
        "   output_dir = \".\"\n",
        "   conf_threshold = 0.6\n",
        "   iou_threshold = 0.5\n",
        "   \n",
        "   #Print list of available backends\n",
        "   print('Available Backends:')\n",
        "   backends_list = ovtf.list_backends()\n",
        "   for backend in backends_list:\n",
        "       print(backend)\n",
        "   ovtf.set_backend(backend_name)\n",
        "\n",
        "   print(\"OpenVINO TensorFlow is enabled\")\n",
        "   infer_openvino_tensorflow(model_file, input_layer, output_layer, image_file, input_height, input_width, input_mean, input_std, label_file )\n",
        "   "
      ],
      "execution_count": 17,
      "outputs": [
        {
          "output_type": "stream",
          "text": [
            "[Errno 2] No such file or directory: 'openvino_tensorflow/examples'\n",
            "/content/openvino_tensorflow/examples\n",
            "Available Backends:\n",
            "CPU\n",
            "OpenVINO TensorFlow is enabled\n",
            "CREATE MODEL - BEGIN\n",
            "CREATE MODEL - END\n",
            "PREDICTION - BEGIN\n",
            "Inference time in ms: 1096.672297\n",
            "PREDICTION - END\n"
          ],
          "name": "stdout"
        }
      ]
    },
    {
      "cell_type": "code",
      "metadata": {
        "id": "s60Eml7RKbCp",
        "colab": {
          "base_uri": "https://localhost:8080/"
        },
        "outputId": "a20a29cc-1ce2-4bc2-ee66-8eda6bb32913"
      },
      "source": [
        "#Disable\n",
        "ovtf.disable()\n",
        "print(\"\")\n",
        "print(\"\")\n",
        "print(\"OpenVINO TensorFlow is disabled\")\n",
        "infer_openvino_tensorflow(model_file, input_layer, output_layer, image_file, input_height, input_width, input_mean, input_std, label_file )\n",
        "ovtf.enable()\n"
      ],
      "execution_count": 18,
      "outputs": [
        {
          "output_type": "stream",
          "text": [
            "\n",
            "\n",
            "OpenVINO TensorFlow is disabled\n",
            "CREATE MODEL - BEGIN\n",
            "CREATE MODEL - END\n",
            "PREDICTION - BEGIN\n",
            "Inference time in ms: 1245.754242\n",
            "PREDICTION - END\n"
          ],
          "name": "stdout"
        }
      ]
    }
  ]
}